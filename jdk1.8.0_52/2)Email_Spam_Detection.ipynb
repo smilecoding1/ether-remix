{
 "cells": [
  {
   "cell_type": "code",
   "execution_count": 1,
   "id": "386a9f6b-c8fc-4423-bb6c-e83afa3ced82",
   "metadata": {},
   "outputs": [],
   "source": [
    "import pandas as pd\n",
    "import numpy as np\n",
    "from sklearn.model_selection import train_test_split\n",
    "from sklearn.preprocessing import StandardScaler, LabelEncoder\n",
    "from sklearn.neighbors import KNeighborsClassifier\n",
    "from sklearn.svm import SVC\n",
    "from sklearn.metrics import accuracy_score, classification_report, confusion_matrix\n"
   ]
  },
  {
   "cell_type": "code",
   "execution_count": 2,
   "id": "0d8fa4c3-3bab-4461-93ef-c3062784dd60",
   "metadata": {},
   "outputs": [],
   "source": [
    "data = pd.read_csv(\"emails.csv\")"
   ]
  },
  {
   "cell_type": "code",
   "execution_count": 3,
   "id": "a3a327de-f989-4ef0-b427-d0f82aad31ec",
   "metadata": {},
   "outputs": [
    {
     "name": "stdout",
     "output_type": "stream",
     "text": [
      "Index(['Email No.', 'the', 'to', 'ect', 'and', 'for', 'of', 'a', 'you', 'hou',\n",
      "       ...\n",
      "       'connevey', 'jay', 'valued', 'lay', 'infrastructure', 'military',\n",
      "       'allowing', 'ff', 'dry', 'Prediction'],\n",
      "      dtype='object', length=3002)\n"
     ]
    }
   ],
   "source": [
    "print(data.columns)\n"
   ]
  },
  {
   "cell_type": "code",
   "execution_count": 4,
   "id": "b450eb98-197f-456e-9e3e-ceee52234602",
   "metadata": {},
   "outputs": [
    {
     "name": "stdout",
     "output_type": "stream",
     "text": [
      "Email No.     0\n",
      "the           0\n",
      "to            0\n",
      "ect           0\n",
      "and           0\n",
      "             ..\n",
      "military      0\n",
      "allowing      0\n",
      "ff            0\n",
      "dry           0\n",
      "Prediction    0\n",
      "Length: 3002, dtype: int64\n"
     ]
    }
   ],
   "source": [
    "print(data.isnull().sum())"
   ]
  },
  {
   "cell_type": "code",
   "execution_count": 5,
   "id": "aa8fb521-f9b2-49fa-adf7-27628ed59097",
   "metadata": {},
   "outputs": [],
   "source": [
    "data.drop(columns=['Email No.'], inplace=True)"
   ]
  },
  {
   "cell_type": "code",
   "execution_count": 6,
   "id": "1577cb16-a035-4237-9230-4c8982af1cfe",
   "metadata": {},
   "outputs": [
    {
     "name": "stdout",
     "output_type": "stream",
     "text": [
      "      the  to  ect  and  for  of    a  you  hou  in  ...  connevey  jay  \\\n",
      "5167    2   2    2    3    0   0   32    0    0   5  ...         0    0   \n",
      "5168   35  27   11    2    6   5  151    4    3  23  ...         0    0   \n",
      "5169    0   0    1    1    0   0   11    0    0   1  ...         0    0   \n",
      "5170    2   7    1    0    2   1   28    2    0   8  ...         0    0   \n",
      "5171   22  24    5    1    6   5  148    8    2  23  ...         0    0   \n",
      "\n",
      "      valued  lay  infrastructure  military  allowing  ff  dry  Prediction  \n",
      "5167       0    0               0         0         0   0    0           0  \n",
      "5168       0    0               0         0         0   1    0           0  \n",
      "5169       0    0               0         0         0   0    0           1  \n",
      "5170       0    0               0         0         0   1    0           1  \n",
      "5171       0    0               0         0         0   0    0           0  \n",
      "\n",
      "[5 rows x 3001 columns]\n"
     ]
    }
   ],
   "source": [
    "print(data.tail())"
   ]
  },
  {
   "cell_type": "code",
   "execution_count": 7,
   "id": "d3e4b1e2-52b2-41ef-b2df-69151b6a107b",
   "metadata": {},
   "outputs": [
    {
     "name": "stdout",
     "output_type": "stream",
     "text": [
      "False    3001\n",
      "Name: count, dtype: int64\n"
     ]
    }
   ],
   "source": [
    "print(data.isnull().any().value_counts())\n"
   ]
  },
  {
   "cell_type": "code",
   "execution_count": 8,
   "id": "cbcbc121-47b0-4bdf-80e2-04fae9be5bd5",
   "metadata": {},
   "outputs": [],
   "source": [
    "x = data.iloc[:, :-1] \n",
    "y = data.iloc[:, -1] "
   ]
  },
  {
   "cell_type": "code",
   "execution_count": 9,
   "id": "e5791add-dea1-411d-9265-19ca8ccf2170",
   "metadata": {},
   "outputs": [
    {
     "name": "stdout",
     "output_type": "stream",
     "text": [
      "(5172, 3000) (5172,)\n"
     ]
    }
   ],
   "source": [
    "print(x.shape, y.shape)\n"
   ]
  },
  {
   "cell_type": "code",
   "execution_count": 10,
   "id": "77bb96c2-67eb-40f2-987d-8f5bd335696c",
   "metadata": {},
   "outputs": [],
   "source": [
    "x_train, x_test, y_train, y_test = train_test_split(x, y, test_size=0.15, random_state=42)"
   ]
  },
  {
   "cell_type": "code",
   "execution_count": 11,
   "id": "bdc2fd0d-93cc-4c0d-a4f2-75cbc39613ca",
   "metadata": {},
   "outputs": [],
   "source": [
    "scaler = StandardScaler()\n",
    "x_train = scaler.fit_transform(x_train)\n",
    "x_test = scaler.transform(x_test)"
   ]
  },
  {
   "cell_type": "code",
   "execution_count": 12,
   "id": "890d86ea-568c-491b-a263-ac68cc509cbd",
   "metadata": {},
   "outputs": [],
   "source": [
    "models = {\n",
    " \"K-Nearest Neighbors\": KNeighborsClassifier(n_neighbors=5),\n",
    " \"Support Vector Machine\": SVC(kernel='linear')\n",
    "}"
   ]
  },
  {
   "cell_type": "code",
   "execution_count": 13,
   "id": "4cca0b45-b0bb-43e5-816b-599bfb9044f9",
   "metadata": {},
   "outputs": [
    {
     "name": "stdout",
     "output_type": "stream",
     "text": [
      "\n",
      "K-Nearest Neighbors Results:\n",
      "Accuracy: 0.8350515463917526\n",
      "Classification Report:\n",
      "              precision    recall  f1-score   support\n",
      "\n",
      "           0       0.98      0.79      0.88       568\n",
      "           1       0.62      0.96      0.76       208\n",
      "\n",
      "    accuracy                           0.84       776\n",
      "   macro avg       0.80      0.88      0.82       776\n",
      "weighted avg       0.89      0.84      0.84       776\n",
      "\n",
      "Confusion Matrix:\n",
      "[[448 120]\n",
      " [  8 200]]\n",
      "\n",
      "Support Vector Machine Results:\n",
      "Accuracy: 0.9445876288659794\n",
      "Classification Report:\n",
      "              precision    recall  f1-score   support\n",
      "\n",
      "           0       0.97      0.95      0.96       568\n",
      "           1       0.88      0.92      0.90       208\n",
      "\n",
      "    accuracy                           0.94       776\n",
      "   macro avg       0.92      0.94      0.93       776\n",
      "weighted avg       0.95      0.94      0.95       776\n",
      "\n",
      "Confusion Matrix:\n",
      "[[541  27]\n",
      " [ 16 192]]\n"
     ]
    }
   ],
   "source": [
    "for model_name, model in models.items():\n",
    " model.fit(x_train, y_train)\n",
    " y_pred = model.predict(x_test)\n",
    "\n",
    " print(f\"\\n{model_name} Results:\")\n",
    " print(f\"Accuracy: {accuracy_score(y_test, y_pred)}\")\n",
    " print(\"Classification Report:\")\n",
    " print(classification_report(y_test, y_pred))\n",
    " print(\"Confusion Matrix:\")\n",
    " print(confusion_matrix(y_test, y_pred))"
   ]
  },
  {
   "cell_type": "code",
   "execution_count": 14,
   "id": "b0615a0b-03a9-485c-b8e4-709a07a924b8",
   "metadata": {},
   "outputs": [
    {
     "name": "stdout",
     "output_type": "stream",
     "text": [
      "\n",
      "Email 1:\n",
      "KNN Prediction: Not Spam\n",
      "SVM Prediction: Not Spam\n",
      "\n",
      "Email 2:\n",
      "KNN Prediction: Not Spam\n",
      "SVM Prediction: Not Spam\n",
      "\n",
      "Email 3:\n",
      "KNN Prediction: Spam\n",
      "SVM Prediction: Spam\n",
      "\n",
      "Email 4:\n",
      "KNN Prediction: Not Spam\n",
      "SVM Prediction: Not Spam\n",
      "\n",
      "Email 5:\n",
      "KNN Prediction: Not Spam\n",
      "SVM Prediction: Not Spam\n"
     ]
    }
   ],
   "source": [
    "example_emails = x_test[:5] \n",
    "for i, email in enumerate(example_emails):\n",
    " knn_prediction = models[\"K-Nearest Neighbors\"].predict([email])\n",
    " svm_prediction = models[\"Support Vector Machine\"].predict([email])\n",
    " print(f\"\\nEmail {i+1}:\")\n",
    " print(f\"KNN Prediction: {'Spam' if knn_prediction[0] else 'Not Spam'}\")\n",
    " print(f\"SVM Prediction: {'Spam' if svm_prediction[0] else 'Not Spam'}\")"
   ]
  },
  {
   "cell_type": "code",
   "execution_count": 15,
   "id": "1e456596-06a5-4d7d-9e5d-222f6318a1f7",
   "metadata": {},
   "outputs": [
    {
     "data": {
      "image/png": "[encoded data removed]",
      "text/plain": [
       "<Figure size 800x600 with 1 Axes>"
      ]
     },
     "metadata": {},
     "output_type": "display_data"
    }
   ],
   "source": [
    "import matplotlib.pyplot as plt\n",
    "import seaborn as sns\n",
    "plt.figure(figsize=(8, 6))\n",
    "sns.countplot(x=y)\n",
    "plt.title('Distribution of Spam vs. Not Spam Emails')\n",
    "plt.xlabel('Email Class (0: Not Spam, 1: Spam)')\n",
    "plt.ylabel('Count')\n",
    "plt.show()\n"
   ]
  },
  {
   "cell_type": "code",
   "execution_count": null,
   "id": "85711877-e269-48c9-9a30-dd17f087a665",
   "metadata": {},
   "outputs": [],
   "source": []
  },
  {
   "cell_type": "code",
   "execution_count": null,
   "id": "c8560738-8727-486b-891d-0fdc3a4c7076",
   "metadata": {},
   "outputs": [],
   "source": []
  }
 ],
 "metadata": {
  "kernelspec": {
   "display_name": "Python 3 (ipykernel)",
   "language": "python",
   "name": "python3"
  },
  "language_info": {
   "codemirror_mode": {
    "name": "ipython",
    "version": 3
   },
   "file_extension": ".py",
   "mimetype": "text/x-python",
   "name": "python",
   "nbconvert_exporter": "python",
   "pygments_lexer": "ipython3",
   "version": "3.11.0"
  }
 },
 "nbformat": 4,
 "nbformat_minor": 5
}
