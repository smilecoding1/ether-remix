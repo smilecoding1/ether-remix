{
 "cells": [
  {
   "cell_type": "code",
   "execution_count": 1,
   "metadata": {},
   "outputs": [],
   "source": [
    "import pandas as pd\n",
    "from sklearn.preprocessing import MinMaxScaler, StandardScaler, OneHotEncoder\n",
    "from sklearn.model_selection import train_test_split\n",
    "from sklearn.linear_model import LogisticRegression\n",
    "from sklearn.metrics import classification_report\n",
    "import numpy as np"
   ]
  },
  {
   "cell_type": "code",
   "execution_count": 4,
   "metadata": {},
   "outputs": [],
   "source": [
    "file_path = \"C:/Users/rashi/OneDrive/Desktop/BE SEM1/ML/ML FINAL ASSIGNMENTS/Assignment-1/ML/Cleaned_data.csv\"\n",
    "data = pd.read_csv(file_path)"
   ]
  },
  {
   "cell_type": "code",
   "execution_count": 5,
   "metadata": {},
   "outputs": [
    {
     "name": "stdout",
     "output_type": "stream",
     "text": [
      "   SR.NO      Status  10TH MARKS Branch 12TH MARKS DIPLOMA  ENGG.AVG%\n",
      "0      1  Not Placed       86.80     IT        NaN   93.44      73.39\n",
      "1      2      Placed       84.40     IT         85     NaN      74.53\n",
      "2      3  Not Placed       87.08     IT       80.4     NaN      71.64\n",
      "3      4      Placed       92.60     IT      80.15     NaN      80.74\n",
      "4      5  Not Placed       83.40     IT         58     NaN      80.74\n"
     ]
    }
   ],
   "source": [
    "print(data.head())"
   ]
  },
  {
   "cell_type": "code",
   "execution_count": 6,
   "metadata": {},
   "outputs": [],
   "source": [
    " data.drop(columns=['SR.NO'], inplace=True)"
   ]
  },
  {
   "cell_type": "code",
   "execution_count": 7,
   "metadata": {},
   "outputs": [],
   "source": [
    "data['10TH MARKS'] = pd.to_numeric(data['10TH MARKS'], errors='coerce')\n",
    "data['12TH MARKS'] = pd.to_numeric(data['12TH MARKS'], errors='coerce')\n",
    "data['DIPLOMA'] = pd.to_numeric(data['DIPLOMA'], errors='coerce')\n",
    "data['ENGG.AVG%'] = pd.to_numeric(data['ENGG.AVG%'], errors='coerce')"
   ]
  },
  {
   "cell_type": "code",
   "execution_count": 8,
   "metadata": {},
   "outputs": [
    {
     "name": "stdout",
     "output_type": "stream",
     "text": [
      "       Status  10TH MARKS Branch  12TH MARKS  DIPLOMA  ENGG.AVG%\n",
      "0  Not Placed       86.80     IT         NaN    93.44      73.39\n",
      "1      Placed       84.40     IT       85.00      NaN      74.53\n",
      "2  Not Placed       87.08     IT       80.40      NaN      71.64\n",
      "3      Placed       92.60     IT       80.15      NaN      80.74\n",
      "4  Not Placed       83.40     IT       58.00      NaN      80.74\n"
     ]
    }
   ],
   "source": [
    "print(data.head())"
   ]
  },
  {
   "cell_type": "code",
   "execution_count": 9,
   "metadata": {},
   "outputs": [],
   "source": [
    "data['12TH MARKS OR DIPLOMA'] = data['12TH MARKS'].fillna(data['DIPLOMA'])"
   ]
  },
  {
   "cell_type": "code",
   "execution_count": 10,
   "metadata": {},
   "outputs": [
    {
     "name": "stdout",
     "output_type": "stream",
     "text": [
      "       Status  10TH MARKS Branch  12TH MARKS  DIPLOMA  ENGG.AVG%  \\\n",
      "0  Not Placed       86.80     IT         NaN    93.44      73.39   \n",
      "1      Placed       84.40     IT       85.00      NaN      74.53   \n",
      "2  Not Placed       87.08     IT       80.40      NaN      71.64   \n",
      "3      Placed       92.60     IT       80.15      NaN      80.74   \n",
      "4  Not Placed       83.40     IT       58.00      NaN      80.74   \n",
      "\n",
      "   12TH MARKS OR DIPLOMA  \n",
      "0                  93.44  \n",
      "1                  85.00  \n",
      "2                  80.40  \n",
      "3                  80.15  \n",
      "4                  58.00  \n"
     ]
    }
   ],
   "source": [
    "print(data.head())"
   ]
  },
  {
   "cell_type": "code",
   "execution_count": 11,
   "metadata": {},
   "outputs": [],
   "source": [
    "data = data.drop(columns=['12TH MARKS', 'DIPLOMA'])"
   ]
  },
  {
   "cell_type": "code",
   "execution_count": 12,
   "metadata": {},
   "outputs": [
    {
     "name": "stdout",
     "output_type": "stream",
     "text": [
      "       Status  10TH MARKS Branch  ENGG.AVG%  12TH MARKS OR DIPLOMA\n",
      "0  Not Placed       86.80     IT      73.39                  93.44\n",
      "1      Placed       84.40     IT      74.53                  85.00\n",
      "2  Not Placed       87.08     IT      71.64                  80.40\n",
      "3      Placed       92.60     IT      80.74                  80.15\n",
      "4  Not Placed       83.40     IT      80.74                  58.00\n"
     ]
    }
   ],
   "source": [
    "print(data.head())"
   ]
  },
  {
   "cell_type": "code",
   "execution_count": 13,
   "metadata": {},
   "outputs": [],
   "source": [
    "data['10TH MARKS'] = data['10TH MARKS'].fillna(data['10TH MARKS'].median())\n",
    "data['12TH MARKS OR DIPLOMA'] = data['12TH MARKS OR DIPLOMA'].fillna(data['12TH MARKS OR DIPLOMA'].median())\n",
    "data['ENGG.AVG%'] = data['ENGG.AVG%'].fillna(data['ENGG.AVG%'].median())"
   ]
  },
  {
   "cell_type": "code",
   "execution_count": 14,
   "metadata": {},
   "outputs": [
    {
     "name": "stdout",
     "output_type": "stream",
     "text": [
      "       Status  10TH MARKS Branch  ENGG.AVG%  12TH MARKS OR DIPLOMA\n",
      "0  Not Placed       86.80     IT      73.39                  93.44\n",
      "1      Placed       84.40     IT      74.53                  85.00\n",
      "2  Not Placed       87.08     IT      71.64                  80.40\n",
      "3      Placed       92.60     IT      80.74                  80.15\n",
      "4  Not Placed       83.40     IT      80.74                  58.00\n"
     ]
    }
   ],
   "source": [
    "print(data.head())\n",
    "data.to_csv('Preprocessed_data.csv', index=False)"
   ]
  },
  {
   "cell_type": "code",
   "execution_count": 15,
   "metadata": {},
   "outputs": [],
   "source": [
    "numerical_cols = ['10TH MARKS', '12TH MARKS OR DIPLOMA', 'ENGG.AVG%']\n",
    "scaler = MinMaxScaler()\n",
    "data[numerical_cols] = scaler.fit_transform(data[numerical_cols])"
   ]
  },
  {
   "cell_type": "code",
   "execution_count": 16,
   "metadata": {},
   "outputs": [],
   "source": [
    "standardizer = StandardScaler()\n",
    "data[numerical_cols] = standardizer.fit_transform(data[numerical_cols])"
   ]
  },
  {
   "cell_type": "code",
   "execution_count": 17,
   "metadata": {},
   "outputs": [
    {
     "name": "stderr",
     "output_type": "stream",
     "text": [
      "C:\\Users\\rashi\\AppData\\Local\\Programs\\Python\\Python311\\Lib\\site-packages\\sklearn\\preprocessing\\_encoders.py:868: FutureWarning: `sparse` was renamed to `sparse_output` in version 1.2 and will be removed in 1.4. `sparse_output` is ignored unless you leave `sparse` to its default value.\n",
      "  warnings.warn(\n"
     ]
    }
   ],
   "source": [
    "encoder = OneHotEncoder(sparse=False)\n",
    "branch_encoded = encoder.fit_transform(data[['Branch']])\n",
    "branch_encoded_df = pd.DataFrame(branch_encoded, columns=encoder.get_feature_names_out(['Branch']))\n",
    "data = pd.concat([data, branch_encoded_df], axis=1)"
   ]
  },
  {
   "cell_type": "code",
   "execution_count": 18,
   "metadata": {},
   "outputs": [],
   "source": [
    "data = data.drop_duplicates()\n",
    "\n",
    "for col in numerical_cols:\n",
    "    data = data[(np.abs(data[col] - data[col].mean()) <= (3 * data[col].std()))]"
   ]
  },
  {
   "cell_type": "code",
   "execution_count": 19,
   "metadata": {},
   "outputs": [],
   "source": [
    "data['Status'] = data['Status'].map({'Placed': 1, 'Not Placed': 0})"
   ]
  },
  {
   "cell_type": "code",
   "execution_count": 20,
   "metadata": {},
   "outputs": [],
   "source": [
    "X = data[['10TH MARKS', '12TH MARKS OR DIPLOMA', 'ENGG.AVG%'] + list(branch_encoded_df.columns)]\n",
    "y = data['Status']"
   ]
  },
  {
   "cell_type": "code",
   "execution_count": 21,
   "metadata": {},
   "outputs": [],
   "source": [
    "X_train, X_test, y_train, y_test = train_test_split(X, y, test_size=0.2, random_state=42)"
   ]
  },
  {
   "cell_type": "code",
   "execution_count": 22,
   "metadata": {},
   "outputs": [
    {
     "data": {
      "text/html": [
       "<style>#sk-container-id-1 {color: black;background-color: white;}#sk-container-id-1 pre{padding: 0;}#sk-container-id-1 div.sk-toggleable {background-color: white;}#sk-container-id-1 label.sk-toggleable__label {cursor: pointer;display: block;width: 100%;margin-bottom: 0;padding: 0.3em;box-sizing: border-box;text-align: center;}#sk-container-id-1 label.sk-toggleable__label-arrow:before {content: \"▸\";float: left;margin-right: 0.25em;color: #696969;}#sk-container-id-1 label.sk-toggleable__label-arrow:hover:before {color: black;}#sk-container-id-1 div.sk-estimator:hover label.sk-toggleable__label-arrow:before {color: black;}#sk-container-id-1 div.sk-toggleable__content {max-height: 0;max-width: 0;overflow: hidden;text-align: left;background-color: #f0f8ff;}#sk-container-id-1 div.sk-toggleable__content pre {margin: 0.2em;color: black;border-radius: 0.25em;background-color: #f0f8ff;}#sk-container-id-1 input.sk-toggleable__control:checked~div.sk-toggleable__content {max-height: 200px;max-width: 100%;overflow: auto;}#sk-container-id-1 input.sk-toggleable__control:checked~label.sk-toggleable__label-arrow:before {content: \"▾\";}#sk-container-id-1 div.sk-estimator input.sk-toggleable__control:checked~label.sk-toggleable__label {background-color: #d4ebff;}#sk-container-id-1 div.sk-label input.sk-toggleable__control:checked~label.sk-toggleable__label {background-color: #d4ebff;}#sk-container-id-1 input.sk-hidden--visually {border: 0;clip: rect(1px 1px 1px 1px);clip: rect(1px, 1px, 1px, 1px);height: 1px;margin: -1px;overflow: hidden;padding: 0;position: absolute;width: 1px;}#sk-container-id-1 div.sk-estimator {font-family: monospace;background-color: #f0f8ff;border: 1px dotted black;border-radius: 0.25em;box-sizing: border-box;margin-bottom: 0.5em;}#sk-container-id-1 div.sk-estimator:hover {background-color: #d4ebff;}#sk-container-id-1 div.sk-parallel-item::after {content: \"\";width: 100%;border-bottom: 1px solid gray;flex-grow: 1;}#sk-container-id-1 div.sk-label:hover label.sk-toggleable__label {background-color: #d4ebff;}#sk-container-id-1 div.sk-serial::before {content: \"\";position: absolute;border-left: 1px solid gray;box-sizing: border-box;top: 0;bottom: 0;left: 50%;z-index: 0;}#sk-container-id-1 div.sk-serial {display: flex;flex-direction: column;align-items: center;background-color: white;padding-right: 0.2em;padding-left: 0.2em;position: relative;}#sk-container-id-1 div.sk-item {position: relative;z-index: 1;}#sk-container-id-1 div.sk-parallel {display: flex;align-items: stretch;justify-content: center;background-color: white;position: relative;}#sk-container-id-1 div.sk-item::before, #sk-container-id-1 div.sk-parallel-item::before {content: \"\";position: absolute;border-left: 1px solid gray;box-sizing: border-box;top: 0;bottom: 0;left: 50%;z-index: -1;}#sk-container-id-1 div.sk-parallel-item {display: flex;flex-direction: column;z-index: 1;position: relative;background-color: white;}#sk-container-id-1 div.sk-parallel-item:first-child::after {align-self: flex-end;width: 50%;}#sk-container-id-1 div.sk-parallel-item:last-child::after {align-self: flex-start;width: 50%;}#sk-container-id-1 div.sk-parallel-item:only-child::after {width: 0;}#sk-container-id-1 div.sk-dashed-wrapped {border: 1px dashed gray;margin: 0 0.4em 0.5em 0.4em;box-sizing: border-box;padding-bottom: 0.4em;background-color: white;}#sk-container-id-1 div.sk-label label {font-family: monospace;font-weight: bold;display: inline-block;line-height: 1.2em;}#sk-container-id-1 div.sk-label-container {text-align: center;}#sk-container-id-1 div.sk-container {/* jupyter's `normalize.less` sets `[hidden] { display: none; }` but bootstrap.min.css set `[hidden] { display: none !important; }` so we also need the `!important` here to be able to override the default hidden behavior on the sphinx rendered scikit-learn.org. See: https://github.com/scikit-learn/scikit-learn/issues/21755 */display: inline-block !important;position: relative;}#sk-container-id-1 div.sk-text-repr-fallback {display: none;}</style><div id=\"sk-container-id-1\" class=\"sk-top-container\"><div class=\"sk-text-repr-fallback\"><pre>LogisticRegression()</pre><b>In a Jupyter environment, please rerun this cell to show the HTML representation or trust the notebook. <br />On GitHub, the HTML representation is unable to render, please try loading this page with nbviewer.org.</b></div><div class=\"sk-container\" hidden><div class=\"sk-item\"><div class=\"sk-estimator sk-toggleable\"><input class=\"sk-toggleable__control sk-hidden--visually\" id=\"sk-estimator-id-1\" type=\"checkbox\" checked><label for=\"sk-estimator-id-1\" class=\"sk-toggleable__label sk-toggleable__label-arrow\">LogisticRegression</label><div class=\"sk-toggleable__content\"><pre>LogisticRegression()</pre></div></div></div></div></div>"
      ],
      "text/plain": [
       "LogisticRegression()"
      ]
     },
     "execution_count": 22,
     "metadata": {},
     "output_type": "execute_result"
    }
   ],
   "source": [
    "model = LogisticRegression()\n",
    "model.fit(X_train, y_train)"
   ]
  },
  {
   "cell_type": "code",
   "execution_count": 23,
   "metadata": {},
   "outputs": [
    {
     "name": "stdout",
     "output_type": "stream",
     "text": [
      "              precision    recall  f1-score   support\n",
      "\n",
      "           0       0.55      0.67      0.60        27\n",
      "           1       0.64      0.52      0.57        31\n",
      "\n",
      "    accuracy                           0.59        58\n",
      "   macro avg       0.59      0.59      0.59        58\n",
      "weighted avg       0.60      0.59      0.58        58\n",
      "\n"
     ]
    }
   ],
   "source": [
    "y_pred = model.predict(X_test)\n",
    "report = classification_report(y_test, y_pred)\n",
    "print(report)"
   ]
  },
  {
   "cell_type": "code",
   "execution_count": 24,
   "metadata": {},
   "outputs": [],
   "source": [
    "def predict_placement(model, input_data, scaler, standardizer, encoder):\n",
    "    numerical_features = ['10TH MARKS', '12TH MARKS OR DIPLOMA', 'ENGG.AVG%']\n",
    "    branch_feature = ['Branch']\n",
    "    \n",
    "    input_df = pd.DataFrame([input_data], columns=numerical_features + branch_feature)\n",
    "    \n",
    "    input_df[numerical_features] = scaler.transform(input_df[numerical_features])  # Normalize\n",
    "    input_df[numerical_features] = standardizer.transform(input_df[numerical_features])  # Standardize\n",
    "    \n",
    "    branch_encoded = encoder.transform(input_df[branch_feature])\n",
    "    branch_encoded_df = pd.DataFrame(branch_encoded, columns=encoder.get_feature_names_out(branch_feature))\n",
    "    \n",
    "    input_df = pd.concat([input_df[numerical_features], branch_encoded_df], axis=1)\n",
    "    \n",
    "    prediction = model.predict(input_df)\n",
    "    return 'Placed' if prediction[0] == 1 else 'Not Placed'"
   ]
  },
  {
   "cell_type": "code",
   "execution_count": 25,
   "metadata": {},
   "outputs": [],
   "source": [
    "new_sample = {\n",
    "    '10TH MARKS': 75,\n",
    "    '12TH MARKS OR DIPLOMA': 70,  \n",
    "    'ENGG.AVG%': 80,\n",
    "    'Branch': 'COMP'\n",
    "}"
   ]
  },
  {
   "cell_type": "code",
   "execution_count": 26,
   "metadata": {},
   "outputs": [
    {
     "name": "stdout",
     "output_type": "stream",
     "text": [
      "The predicted placement status is: Placed\n"
     ]
    }
   ],
   "source": [
    "result = predict_placement(model, new_sample, scaler, standardizer, encoder)\n",
    "print(f\"The predicted placement status is: {result}\")"
   ]
  },
  {
   "cell_type": "code",
   "execution_count": null,
   "metadata": {},
   "outputs": [],
   "source": []
  }
 ],
 "metadata": {
  "kernelspec": {
   "display_name": "Python 3 (ipykernel)",
   "language": "python",
   "name": "python3"
  },
  "language_info": {
   "codemirror_mode": {
    "name": "ipython",
    "version": 3
   },
   "file_extension": ".py",
   "mimetype": "text/x-python",
   "name": "python",
   "nbconvert_exporter": "python",
   "pygments_lexer": "ipython3",
   "version": "3.11.0"
  }
 },
 "nbformat": 4,
 "nbformat_minor": 4
}
