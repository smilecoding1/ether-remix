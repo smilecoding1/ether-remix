{
 "cells": [
  {
   "cell_type": "code",
   "execution_count": 1,
   "metadata": {},
   "outputs": [],
   "source": [
    "import numpy as np\n",
    "import pandas as pd\n"
   ]
  },
  {
   "cell_type": "code",
   "execution_count": 3,
   "metadata": {},
   "outputs": [
    {
     "name": "stdout",
     "output_type": "stream",
     "text": [
      "Ratings Data Info:\n",
      "<class 'pandas.core.frame.DataFrame'>\n",
      "RangeIndex: 100836 entries, 0 to 100835\n",
      "Data columns (total 4 columns):\n",
      " #   Column     Non-Null Count   Dtype  \n",
      "---  ------     --------------   -----  \n",
      " 0   userId     100836 non-null  int64  \n",
      " 1   movieId    100836 non-null  int64  \n",
      " 2   rating     100836 non-null  float64\n",
      " 3   timestamp  100836 non-null  int64  \n",
      "dtypes: float64(1), int64(3)\n",
      "memory usage: 3.1 MB\n",
      "None\n",
      "\n",
      "Ratings Data Head:\n",
      "   userId  movieId  rating  timestamp\n",
      "0       1        1     4.0  964982703\n",
      "1       1        3     4.0  964981247\n",
      "2       1        6     4.0  964982224\n",
      "3       1       47     5.0  964983815\n",
      "4       1       50     5.0  964982931\n"
     ]
    }
   ],
   "source": [
    "ratings = pd.read_csv('ratings.csv')\n",
    "print(\"Ratings Data Info:\")\n",
    "print(ratings.info())\n",
    "print(\"\\nRatings Data Head:\")\n",
    "print(ratings.head())"
   ]
  },
  {
   "cell_type": "code",
   "execution_count": 5,
   "metadata": {},
   "outputs": [
    {
     "name": "stdout",
     "output_type": "stream",
     "text": [
      "Movies Data Info:\n",
      "<class 'pandas.core.frame.DataFrame'>\n",
      "RangeIndex: 9742 entries, 0 to 9741\n",
      "Data columns (total 3 columns):\n",
      " #   Column   Non-Null Count  Dtype \n",
      "---  ------   --------------  ----- \n",
      " 0   movieId  9742 non-null   int64 \n",
      " 1   title    9742 non-null   object\n",
      " 2   genres   9742 non-null   object\n",
      "dtypes: int64(1), object(2)\n",
      "memory usage: 228.5+ KB\n",
      "None\n",
      "\n",
      "Movies Data Head:\n",
      "   movieId                               title  \\\n",
      "0        1                    Toy Story (1995)   \n",
      "1        2                      Jumanji (1995)   \n",
      "2        3             Grumpier Old Men (1995)   \n",
      "3        4            Waiting to Exhale (1995)   \n",
      "4        5  Father of the Bride Part II (1995)   \n",
      "\n",
      "                                        genres  \n",
      "0  Adventure|Animation|Children|Comedy|Fantasy  \n",
      "1                   Adventure|Children|Fantasy  \n",
      "2                               Comedy|Romance  \n",
      "3                         Comedy|Drama|Romance  \n",
      "4                                       Comedy  \n"
     ]
    }
   ],
   "source": [
    "movies = pd.read_csv('movies.csv')\n",
    "print(\"Movies Data Info:\")\n",
    "print(movies.info())\n",
    "print(\"\\nMovies Data Head:\")\n",
    "print(movies.head())"
   ]
  },
  {
   "cell_type": "code",
   "execution_count": 6,
   "metadata": {},
   "outputs": [],
   "source": [
    "movies_sample = movies.sample(n=100, random_state=42)\n"
   ]
  },
  {
   "cell_type": "code",
   "execution_count": 7,
   "metadata": {},
   "outputs": [],
   "source": [
    "ratings_sample = ratings[ratings.movieId.isin(movies_sample.movieId)].groupby('movieId').head(100)"
   ]
  },
  {
   "cell_type": "code",
   "execution_count": 8,
   "metadata": {},
   "outputs": [],
   "source": [
    "merged_df = pd.merge(ratings_sample, movies_sample, on='movieId')"
   ]
  },
  {
   "cell_type": "code",
   "execution_count": 9,
   "metadata": {},
   "outputs": [
    {
     "name": "stdout",
     "output_type": "stream",
     "text": [
      "   userId  movieId  rating  timestamp  \\\n",
      "0       1      423     3.0  964982363   \n",
      "1       4     1266     4.0  986849037   \n",
      "2       4     1597     1.0  945079906   \n",
      "3       4     2324     1.0  964622590   \n",
      "4       5      290     5.0  847435311   \n",
      "\n",
      "                                        title                          genres  \n",
      "0                           Blown Away (1994)                 Action|Thriller  \n",
      "1                           Unforgiven (1992)                   Drama|Western  \n",
      "2                    Conspiracy Theory (1997)  Drama|Mystery|Romance|Thriller  \n",
      "3  Life Is Beautiful (La Vita è bella) (1997)        Comedy|Drama|Romance|War  \n",
      "4                   Once Were Warriors (1994)                     Crime|Drama  \n"
     ]
    }
   ],
   "source": [
    "print(merged_df.head())"
   ]
  },
  {
   "cell_type": "code",
   "execution_count": 10,
   "metadata": {},
   "outputs": [],
   "source": [
    "user_item_matrix = merged_df.pivot_table(index='userId', columns='movieId', values='rating').fillna(0)\n"
   ]
  },
  {
   "cell_type": "code",
   "execution_count": 11,
   "metadata": {},
   "outputs": [],
   "source": [
    "R = user_item_matrix.values\n"
   ]
  },
  {
   "cell_type": "code",
   "execution_count": 12,
   "metadata": {},
   "outputs": [
    {
     "name": "stdout",
     "output_type": "stream",
     "text": [
      "User-Item Matrix Info:\n",
      "<class 'pandas.core.frame.DataFrame'>\n",
      "Index: 300 entries, 1 to 610\n",
      "Data columns (total 100 columns):\n",
      " #   Column  Non-Null Count  Dtype  \n",
      "---  ------  --------------  -----  \n",
      " 0   43      300 non-null    float64\n",
      " 1   108     300 non-null    float64\n",
      " 2   290     300 non-null    float64\n",
      " 3   389     300 non-null    float64\n",
      " 4   416     300 non-null    float64\n",
      " 5   423     300 non-null    float64\n",
      " 6   522     300 non-null    float64\n",
      " 7   556     300 non-null    float64\n",
      " 8   694     300 non-null    float64\n",
      " 9   835     300 non-null    float64\n",
      " 10  1040    300 non-null    float64\n",
      " 11  1266    300 non-null    float64\n",
      " 12  1373    300 non-null    float64\n",
      " 13  1398    300 non-null    float64\n",
      " 14  1432    300 non-null    float64\n",
      " 15  1446    300 non-null    float64\n",
      " 16  1564    300 non-null    float64\n",
      " 17  1597    300 non-null    float64\n",
      " 18  1964    300 non-null    float64\n",
      " 19  2071    300 non-null    float64\n",
      " 20  2324    300 non-null    float64\n",
      " 21  2358    300 non-null    float64\n",
      " 22  2540    300 non-null    float64\n",
      " 23  2606    300 non-null    float64\n",
      " 24  2968    300 non-null    float64\n",
      " 25  2988    300 non-null    float64\n",
      " 26  3054    300 non-null    float64\n",
      " 27  3130    300 non-null    float64\n",
      " 28  3148    300 non-null    float64\n",
      " 29  3269    300 non-null    float64\n",
      " 30  3393    300 non-null    float64\n",
      " 31  3669    300 non-null    float64\n",
      " 32  3680    300 non-null    float64\n",
      " 33  3965    300 non-null    float64\n",
      " 34  4018    300 non-null    float64\n",
      " 35  4055    300 non-null    float64\n",
      " 36  4111    300 non-null    float64\n",
      " 37  4321    300 non-null    float64\n",
      " 38  4458    300 non-null    float64\n",
      " 39  4495    300 non-null    float64\n",
      " 40  4719    300 non-null    float64\n",
      " 41  4723    300 non-null    float64\n",
      " 42  4827    300 non-null    float64\n",
      " 43  5021    300 non-null    float64\n",
      " 44  5065    300 non-null    float64\n",
      " 45  5080    300 non-null    float64\n",
      " 46  5264    300 non-null    float64\n",
      " 47  5556    300 non-null    float64\n",
      " 48  5984    300 non-null    float64\n",
      " 49  6184    300 non-null    float64\n",
      " 50  6254    300 non-null    float64\n",
      " 51  6410    300 non-null    float64\n",
      " 52  6588    300 non-null    float64\n",
      " 53  6595    300 non-null    float64\n",
      " 54  6625    300 non-null    float64\n",
      " 55  6816    300 non-null    float64\n",
      " 56  7179    300 non-null    float64\n",
      " 57  7325    300 non-null    float64\n",
      " 58  7443    300 non-null    float64\n",
      " 59  8714    300 non-null    float64\n",
      " 60  8920    300 non-null    float64\n",
      " 61  27480   300 non-null    float64\n",
      " 62  27846   300 non-null    float64\n",
      " 63  33004   300 non-null    float64\n",
      " 64  36477   300 non-null    float64\n",
      " 65  41285   300 non-null    float64\n",
      " 66  44241   300 non-null    float64\n",
      " 67  45635   300 non-null    float64\n",
      " 68  49793   300 non-null    float64\n",
      " 69  50147   300 non-null    float64\n",
      " 70  52435   300 non-null    float64\n",
      " 71  53123   300 non-null    float64\n",
      " 72  55241   300 non-null    float64\n",
      " 73  65810   300 non-null    float64\n",
      " 74  69131   300 non-null    float64\n",
      " 75  72407   300 non-null    float64\n",
      " 76  74789   300 non-null    float64\n",
      " 77  79798   300 non-null    float64\n",
      " 78  85414   300 non-null    float64\n",
      " 79  87834   300 non-null    float64\n",
      " 80  93040   300 non-null    float64\n",
      " 81  93723   300 non-null    float64\n",
      " 82  94323   300 non-null    float64\n",
      " 83  100326  300 non-null    float64\n",
      " 84  102823  300 non-null    float64\n",
      " 85  105954  300 non-null    float64\n",
      " 86  110591  300 non-null    float64\n",
      " 87  112580  300 non-null    float64\n",
      " 88  116413  300 non-null    float64\n",
      " 89  120807  300 non-null    float64\n",
      " 90  130518  300 non-null    float64\n",
      " 91  134019  300 non-null    float64\n",
      " 92  141994  300 non-null    float64\n",
      " 93  149011  300 non-null    float64\n",
      " 94  157130  300 non-null    float64\n",
      " 95  174479  300 non-null    float64\n",
      " 96  176389  300 non-null    float64\n",
      " 97  177593  300 non-null    float64\n",
      " 98  185029  300 non-null    float64\n",
      " 99  186587  300 non-null    float64\n",
      "dtypes: float64(100)\n",
      "memory usage: 236.7 KB\n",
      "None\n"
     ]
    }
   ],
   "source": [
    "print(\"User-Item Matrix Info:\")\n",
    "print(user_item_matrix.info())\n"
   ]
  },
  {
   "cell_type": "code",
   "execution_count": 13,
   "metadata": {},
   "outputs": [
    {
     "name": "stdout",
     "output_type": "stream",
     "text": [
      "\n",
      "User-Item Matrix Head:\n",
      "movieId  43      108     290     389     416     423     522     556     \\\n",
      "userId                                                                    \n",
      "1           0.0     0.0     0.0     0.0     0.0     3.0     0.0     0.0   \n",
      "4           0.0     0.0     0.0     0.0     0.0     0.0     0.0     0.0   \n",
      "5           0.0     0.0     5.0     0.0     0.0     0.0     0.0     0.0   \n",
      "6           4.0     0.0     0.0     0.0     3.0     0.0     0.0     0.0   \n",
      "7           0.0     0.0     0.0     0.0     0.0     0.0     0.0     0.0   \n",
      "\n",
      "movieId  694     835     ...  130518  134019  141994  149011  157130  174479  \\\n",
      "userId                   ...                                                   \n",
      "1           0.0     0.0  ...     0.0     0.0     0.0     0.0     0.0     0.0   \n",
      "4           0.0     0.0  ...     0.0     0.0     0.0     0.0     0.0     0.0   \n",
      "5           0.0     0.0  ...     0.0     0.0     0.0     0.0     0.0     0.0   \n",
      "6           3.0     4.0  ...     0.0     0.0     0.0     0.0     0.0     0.0   \n",
      "7           0.0     0.0  ...     0.0     0.0     0.0     0.0     0.0     0.0   \n",
      "\n",
      "movieId  176389  177593  185029  186587  \n",
      "userId                                   \n",
      "1           0.0     0.0     0.0     0.0  \n",
      "4           0.0     0.0     0.0     0.0  \n",
      "5           0.0     0.0     0.0     0.0  \n",
      "6           0.0     0.0     0.0     0.0  \n",
      "7           0.0     0.0     0.0     0.0  \n",
      "\n",
      "[5 rows x 100 columns]\n"
     ]
    }
   ],
   "source": [
    "print(\"\\nUser-Item Matrix Head:\")\n",
    "print(user_item_matrix.head())"
   ]
  },
  {
   "cell_type": "code",
   "execution_count": 14,
   "metadata": {},
   "outputs": [],
   "source": [
    "def matrix_factorization(R, K, steps=50, alpha=0.0002, beta=0.02):\n",
    "    N = len(R)\n",
    "    M = len(R[0])\n",
    "    P = np.random.rand(N, K)\n",
    "    Q = np.random.rand(M, K)\n",
    "    \n",
    "    for step in range(steps):\n",
    "        for i in range(N):\n",
    "            for j in range(M):\n",
    "                if R[i][j] > 0:\n",
    "                    eij = R[i][j] - np.dot(P[i, :], Q[j, :].T)\n",
    "                    for k in range(K):\n",
    "                        P[i][k] += alpha * (2 * eij * Q[j][k] - beta * P[i][k])\n",
    "                        Q[j][k] += alpha * (2 * eij * P[i][k] - beta * Q[j][k])\n",
    "        \n",
    "        error = 0\n",
    "        for i in range(N):\n",
    "            for j in range(M):\n",
    "                if R[i][j] > 0:\n",
    "                    error += pow(R[i][j] - np.dot(P[i, :], Q[j, :].T), 2)\n",
    "                    for k in range(K):\n",
    "                        error += (beta/2) * (pow(P[i][k], 2) + pow(Q[j][k], 2))\n",
    "        if error < 0.001:\n",
    "            break\n",
    "    \n",
    "    return P, Q\n"
   ]
  },
  {
   "cell_type": "code",
   "execution_count": 15,
   "metadata": {},
   "outputs": [],
   "source": [
    "K = 2\n",
    "\n",
    "P, Q = matrix_factorization(R, K, steps=50)"
   ]
  },
  {
   "cell_type": "code",
   "execution_count": 16,
   "metadata": {},
   "outputs": [],
   "source": [
    "predicted_R = np.dot(P, Q.T)"
   ]
  },
  {
   "cell_type": "code",
   "execution_count": 17,
   "metadata": {},
   "outputs": [
    {
     "name": "stdout",
     "output_type": "stream",
     "text": [
      "\n",
      "Predicted user-item rating matrix:\n",
      "[[1.6526217  0.65418784 2.49060257 ... 0.92768591 1.29594733 0.73813085]\n",
      " [1.53098671 0.57259655 2.3580745  ... 0.85671036 1.27469475 0.75028439]\n",
      " [1.4425826  0.51173422 2.26412515 ... 0.8049995  1.26271067 0.76222254]\n",
      " ...\n",
      " [1.82036525 0.71791084 2.74746912 ... 1.02163146 1.43342424 0.81837596]\n",
      " [1.53797866 0.45791692 2.54696009 ... 0.85116449 1.54052073 0.98688447]\n",
      " [1.91930056 0.80590104 2.82242537 ... 1.08110531 1.40277367 0.76550039]]\n"
     ]
    }
   ],
   "source": [
    "print(\"\\nPredicted user-item rating matrix:\")\n",
    "print(predicted_R)"
   ]
  },
  {
   "cell_type": "code",
   "execution_count": null,
   "metadata": {},
   "outputs": [],
   "source": []
  }
 ],
 "metadata": {
  "kernelspec": {
   "display_name": "Python 3 (ipykernel)",
   "language": "python",
   "name": "python3"
  },
  "language_info": {
   "codemirror_mode": {
    "name": "ipython",
    "version": 3
   },
   "file_extension": ".py",
   "mimetype": "text/x-python",
   "name": "python",
   "nbconvert_exporter": "python",
   "pygments_lexer": "ipython3",
   "version": "3.11.0"
  }
 },
 "nbformat": 4,
 "nbformat_minor": 4
}
